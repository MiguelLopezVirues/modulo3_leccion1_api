{
 "cells": [
  {
   "cell_type": "markdown",
   "metadata": {},
   "source": [
    "<div style=\"text-align: center;\">\n",
    "  <img src=\"https://github.com/Hack-io-Data/Imagenes/blob/main/01-LogosHackio/logo_naranja@4x.png?raw=true\" alt=\"esquema\" />\n",
    "</div>"
   ]
  },
  {
   "cell_type": "markdown",
   "metadata": {},
   "source": [
    "# Laboratorio API's \n",
    "\n",
    "SetMagic Productions es una empresa especializada en la provisión de servicios integrales para la realización de rodajes cinematográficos y audiovisuales. Nos dedicamos a facilitar tanto el atrezzo necesario para las producciones como los lugares idóneos para llevar a cabo los rodajes, ya sea en entornos al aire libre o en interiores.\n",
    "\n",
    "**Servicios Ofrecidos:**\n",
    "\n",
    "- **Atrezzo Creativo:** Contamos con un extenso catálogo de atrezzo que abarca desde accesorios hasta muebles y objetos temáticos para ambientar cualquier tipo de  escena.\n",
    "\n",
    "- **Locaciones Únicas:** Nuestra empresa ofrece una amplia selección de locaciones, que incluyen desde escenarios naturales como playas, bosques y montañas, hasta espacios interiores como estudios, casas históricas y edificios emblemáticos.\n",
    "\n",
    "- **Servicios de Producción:** Además de proporcionar atrezzo y locaciones, también ofrecemos servicios de producción audiovisual, incluyendo equipos de filmación, personal técnico y servicios de postproducción.\n",
    "\n",
    "**Herramientas y Tecnologías:**\n",
    "\n",
    "Para recopilar información sobre nuevas locaciones y tendencias en atrezzo, utilizamos herramientas de web scraping como Beautiful Soup y Selenium para extraer datos de sitios web relevantes y redes sociales especializadas en cine y producción audiovisual. También integramos APIs de plataformas de alquiler de locaciones y bases de datos de atrezzo para acceder a información actualizada y detallada.\n",
    "\n",
    "**Almacenamiento de Datos:**\n",
    "\n",
    "La información recopilada mediante web scraping y APIs se almacena en una base de datos no relacional MongoDB. Esta base de datos nos permite organizar eficientemente la información sobre locaciones, atrezzo, clientes y proyectos en curso, facilitando su acceso y gestión.\n",
    "\n",
    "**Objetivo:**\n",
    "\n",
    "Nuestro objetivo principal es proporcionar a nuestros clientes una experiencia fluida y personalizada en la búsqueda y selección de locaciones y atrezzo para sus proyectos audiovisuales. Utilizando tecnologías avanzadas y una amplia red de contactos en la industria, nos esforzamos por ofrecer soluciones creativas y de alta calidad que satisfagan las necesidades específicas de cada producción.\n",
    "\n",
    "\n",
    "# Lab: APIs y Obtención de Datos de Localizaciones para Rodajes\n",
    "\n",
    "En este laboratorio aprenderás a utilizar APIs para obtener información sobre localizaciones de rodaje en la Comunidad de Madrid. A lo largo de este ejercicio, implementarás funciones que te permitirán extraer coordenadas, buscar lugares de interés y almacenar la información en un formato que puedas reutilizar.\n",
    "\n",
    "## Objetivo\n",
    "\n",
    "Obtener información geográfica y sobre posibles localizaciones para rodajes en diferentes municipios de la Comunidad de Madrid, utilizando APIs como **Geopy** y **Foursquare**.\n",
    "\n",
    "### Paso 1: Obtener Coordenadas de los Municipios\n",
    "\n",
    "Primero, necesitas obtener las coordenadas geográficas (latitud y longitud) de cada municipio en la Comunidad de Madrid. Para esto, utilizarás la biblioteca **Geopy** y su funcionalidad para geocodificar. La lista de los municipios de la Comunidad de Madrid es:\n",
    "\n",
    "```python\n",
    "lista_municipios = ['acebeda-la', 'ajalvir', 'alameda-del-valle', 'alamo-el', 'alcala-de-henares', 'alcobendas', 'alcorcon', 'aldea-del-fresno', 'algete', 'alpedrete', 'ambite', 'anchuelo', 'aranjuez', 'arganda-del-rey', 'arroyomolinos', 'atazar-el', 'batres', 'becerril-de-la-sierra', 'belmonte-de-tajo', 'berrueco-el', 'berzosa-del-lozoya', 'boadilla-del-monte', 'boalo-el', 'braojos', 'brea-de-tajo', 'brunete', 'buitrago-del-lozoya', 'bustarviejo', 'cabanillas-de-la-sierra', 'cabrera-la', 'cadalso-de-los-vidrios', 'camarma-de-esteruelas', 'campo-real', 'canencia', 'carabana', 'casarrubuelos', 'cenicientos', 'cercedilla', 'cervera-de-buitrago', 'chapineria', 'chinchon', 'ciempozuelos', 'cobena', 'collado-mediano', 'collado-villalba', 'colmenar-del-arroyo', 'colmenar-de-oreja', 'colmenarejo', 'colmenar-viejo', 'corpa', 'coslada', 'cubas-de-la-sagra', 'daganzo-de-arriba', 'escorial-el', 'estremera', 'fresnedillas-de-la-oliva', 'fresno-de-torote', 'fuenlabrada', 'fuente-el-saz-de-jarama', 'fuentiduena-de-tajo', 'galapagar', 'garganta-de-los-montes', 'gargantilla-del-lozoya-y-pinilla-de-buitrago', 'gascones', 'getafe', 'grinon', 'guadalix-de-la-sierra', 'guadarrama', 'hiruela-la', 'horcajo-de-la-sierra-aoslos', 'horcajuelo-de-la-sierra', 'hoyo-de-manzanares', 'humanes-de-madrid', 'leganes', 'loeches', 'lozoya', 'lozoyuela-navas-sieteiglesias', 'madarcos', 'madrid', 'majadahonda', 'manzanares-el-real', 'meco', 'mejorada-del-campo', 'miraflores-de-la-sierra', 'molar-el', 'molinos-los', 'montejo-de-la-sierra', 'moraleja-de-enmedio', 'moralzarzal', 'morata-de-tajuna', 'mostoles', 'navacerrada', 'navalafuente', 'navalagamella', 'navalcarnero', 'navarredonda-y-san-mames', 'navas-del-rey', 'nuevo-baztan', 'olmeda-de-las-fuentes', 'orusco-de-tajuna', 'paracuellos-de-jarama', 'parla', 'patones', 'pedrezuela', 'pelayos-de-la-presa', 'perales-de-tajuna', 'pezuela-de-las-torres', 'pinilla-del-valle', 'pinto', 'pinuecar-gandullas', 'pozuelo-de-alarcon', 'pozuelo-del-rey', 'pradena-del-rincon', 'puebla-de-la-sierra', 'puentes-viejas-manjiron', 'quijorna', 'rascafria', 'reduena', 'ribatejada', 'rivas-vaciamadrid', 'robledillo-de-la-jara', 'robledo-de-chavela', 'robregordo', 'rozas-de-madrid-las', 'rozas-de-puerto-real', 'san-agustin-del-guadalix', 'san-fernando-de-henares', 'san-lorenzo-de-el-escorial', 'san-martin-de-la-vega', 'san-martin-de-valdeiglesias', 'san-sebastian-de-los-reyes', 'santa-maria-de-la-alameda', 'santorcaz', 'santos-de-la-humosa-los', 'serna-del-monte-la', 'serranillos-del-valle', 'sevilla-la-nueva', 'somosierra', 'soto-del-real', 'talamanca-de-jarama', 'tielmes', 'titulcia', 'torrejon-de-ardoz', 'torrejon-de-la-calzada', 'torrejon-de-velasco', 'torrelaguna', 'torrelodones', 'torremocha-de-jarama', 'torres-de-la-alameda', 'tres-cantos', 'valdaracete', 'valdeavero', 'valdelaguna', 'valdemanco', 'valdemaqueda', 'valdemorillo', 'valdemoro', 'valdeolmos-alalpardo', 'valdepielagos', 'valdetorres-de-jarama', 'valdilecha', 'valverde-de-alcala', 'velilla-de-san-antonio', 'vellon-el', 'venturada', 'villaconejos', 'villa-del-prado', 'villalbilla', 'villamanrique-de-tajo', 'villamanta', 'villamantilla', 'villanueva-de-la-canada', 'villanueva-del-pardillo', 'villanueva-de-perales', 'villar-del-olmo', 'villarejo-de-salvanes', 'villaviciosa-de-odon', 'villavieja-del-lozoya', 'zarzalejo']\n",
    "```\n",
    "\n",
    "1. Instalar y configurar la biblioteca de Geopy para realizar la geocodificación.\n",
    "\n",
    "2. Crear una función que reciba una lista de municipios y devuelva un DataFrame con los nombres de los municipios y sus respectivas coordenadas (latitud y longitud).\n",
    "\n",
    "3. Validar los datos obtenidos para verificar si hay municipios sin coordenadas y resolver posibles problemas, como nombres incorrectos o faltantes.\n"
   ]
  },
  {
   "cell_type": "code",
   "execution_count": 8,
   "metadata": {},
   "outputs": [
    {
     "data": {
      "text/plain": [
       "True"
      ]
     },
     "execution_count": 8,
     "metadata": {},
     "output_type": "execute_result"
    }
   ],
   "source": [
    "from geopy.geocoders import Nominatim\n",
    "import pandas as pd\n",
    "import numpy as np\n",
    "from tqdm import tqdm\n",
    "import os\n",
    "import dotenv\n",
    "dotenv.load_dotenv()"
   ]
  },
  {
   "cell_type": "code",
   "execution_count": 3,
   "metadata": {},
   "outputs": [],
   "source": [
    "city_list = ['acebeda-la', 'ajalvir', 'alameda-del-valle', 'alamo-el', 'alcala-de-henares', 'alcobendas', 'alcorcon', 'aldea-del-fresno', 'algete', 'alpedrete', 'ambite', 'anchuelo', 'aranjuez', 'arganda-del-rey', 'arroyomolinos', 'atazar-el', 'batres', 'becerril-de-la-sierra', 'belmonte-de-tajo', 'berrueco-el', 'berzosa-del-lozoya', 'boadilla-del-monte', 'boalo-el', 'braojos', 'brea-de-tajo', 'brunete', 'buitrago-del-lozoya', 'bustarviejo', 'cabanillas-de-la-sierra', 'cabrera-la', 'cadalso-de-los-vidrios', 'camarma-de-esteruelas', 'campo-real', 'canencia', 'carabana', 'casarrubuelos', 'cenicientos', 'cercedilla', 'cervera-de-buitrago', 'chapineria', 'chinchon', 'ciempozuelos', 'cobena', 'collado-mediano', 'collado-villalba', 'colmenar-del-arroyo', 'colmenar-de-oreja', 'colmenarejo', 'colmenar-viejo', 'corpa', 'coslada', 'cubas-de-la-sagra', 'daganzo-de-arriba', 'escorial-el', 'estremera', 'fresnedillas-de-la-oliva', 'fresno-de-torote', 'fuenlabrada', 'fuente-el-saz-de-jarama', 'fuentiduena-de-tajo', 'galapagar', 'garganta-de-los-montes', 'gargantilla-del-lozoya-y-pinilla-de-buitrago', 'gascones', 'getafe', 'grinon', 'guadalix-de-la-sierra', 'guadarrama', 'hiruela-la', 'horcajo-de-la-sierra-aoslos', 'horcajuelo-de-la-sierra', 'hoyo-de-manzanares', 'humanes-de-madrid', 'leganes', 'loeches', 'lozoya', 'lozoyuela-navas-sieteiglesias', 'madarcos', 'madrid', 'majadahonda', 'manzanares-el-real', 'meco', 'mejorada-del-campo', 'miraflores-de-la-sierra', 'molar-el', 'molinos-los', 'montejo-de-la-sierra', 'moraleja-de-enmedio', 'moralzarzal', 'morata-de-tajuna', 'mostoles', 'navacerrada', 'navalafuente', 'navalagamella', 'navalcarnero', 'navarredonda-y-san-mames', 'navas-del-rey', 'nuevo-baztan', 'olmeda-de-las-fuentes', 'orusco-de-tajuna', 'paracuellos-de-jarama', 'parla', 'patones', 'pedrezuela', 'pelayos-de-la-presa', 'perales-de-tajuna', 'pezuela-de-las-torres', 'pinilla-del-valle', 'pinto', 'pinuecar-gandullas', 'pozuelo-de-alarcon', 'pozuelo-del-rey', 'pradena-del-rincon', 'puebla-de-la-sierra', 'puentes-viejas-manjiron', 'quijorna', 'rascafria', 'reduena', 'ribatejada', 'rivas-vaciamadrid', 'robledillo-de-la-jara', 'robledo-de-chavela', 'robregordo', 'rozas-de-madrid-las', 'rozas-de-puerto-real', 'san-agustin-del-guadalix', 'san-fernando-de-henares', 'san-lorenzo-de-el-escorial', 'san-martin-de-la-vega', 'san-martin-de-valdeiglesias', 'san-sebastian-de-los-reyes', 'santa-maria-de-la-alameda', 'santorcaz', 'santos-de-la-humosa-los', 'serna-del-monte-la', 'serranillos-del-valle', 'sevilla-la-nueva', 'somosierra', 'soto-del-real', 'talamanca-de-jarama', 'tielmes', 'titulcia', 'torrejon-de-ardoz', 'torrejon-de-la-calzada', 'torrejon-de-velasco', 'torrelaguna', 'torrelodones', 'torremocha-de-jarama', 'torres-de-la-alameda', 'tres-cantos', 'valdaracete', 'valdeavero', 'valdelaguna', 'valdemanco', 'valdemaqueda', 'valdemorillo', 'valdemoro', 'valdeolmos-alalpardo', 'valdepielagos', 'valdetorres-de-jarama', 'valdilecha', 'valverde-de-alcala', 'velilla-de-san-antonio', 'vellon-el', 'venturada', 'villaconejos', 'villa-del-prado', 'villalbilla', 'villamanrique-de-tajo', 'villamanta', 'villamantilla', 'villanueva-de-la-canada', 'villanueva-del-pardillo', 'villanueva-de-perales', 'villar-del-olmo', 'villarejo-de-salvanes', 'villaviciosa-de-odon', 'villavieja-del-lozoya', 'zarzalejo']"
   ]
  },
  {
   "cell_type": "code",
   "execution_count": 5,
   "metadata": {},
   "outputs": [],
   "source": [
    "# from geopy.geocoders import Nominatim\n",
    "# import pandas as pd\n",
    "# import numpy as np\n",
    "\n",
    "# geolocator = Nominatim(user_agent=\"my_application\")\n",
    "\n",
    "# dict_city_coordenadas = {\"city\":list(),\n",
    "#                                \"latitude\": list(),\n",
    "#                                \"longitude\": list()}\n",
    "\n",
    "# list_city_coordinates = list()\n",
    "# def map_city(city):\n",
    "#     location = geolocator.geocode(city)\n",
    "#     dict_city_coordenadas = {\n",
    "#         \"city\": city,\n",
    "#         \"latitude\": location.latitude,\n",
    "#         \"longitude\": location.longitude\n",
    "#     }\n",
    "#     return dict_city_coordenadas\n",
    "\n",
    "# pd.DataFrame(list(map(map_city,city_list)))\n",
    "\n",
    "# # for city in city_list:\n",
    "# #     location = geolocator.geocode(city)\n",
    "# #     dict_city_coordenadas[\"city\"].append(city)\n",
    "# #     dict_city_coordenadas[\"latitude\"].append(location.latitude)\n",
    "# #     dict_city_coordenadas[\"longitude\"].append(location.longitude)\n",
    "\n",
    "# # pd.DataFrame(dict_city_coordenadas)"
   ]
  },
  {
   "cell_type": "code",
   "execution_count": 6,
   "metadata": {},
   "outputs": [
    {
     "name": "stderr",
     "output_type": "stream",
     "text": [
      "100%|██████████| 179/179 [01:31<00:00,  1.96it/s]\n"
     ]
    }
   ],
   "source": [
    "from geopy.geocoders import Nominatim\n",
    "import pandas as pd\n",
    "import numpy as np\n",
    "from tqdm import tqdm\n",
    "\n",
    "def get_city_coordinates_df(city_list):\n",
    "    geolocator = Nominatim(user_agent=\"my_application_2\")\n",
    "\n",
    "    dict_city_coordenadas = {\"city\":list(),\n",
    "                               \"latitude\": list(),\n",
    "                               \"longitude\": list()}\n",
    "    \n",
    "    for city in tqdm(city_list):\n",
    "        location = geolocator.geocode(city)\n",
    "        dict_city_coordenadas[\"city\"].append(city)\n",
    "        dict_city_coordenadas[\"latitude\"].append(location.latitude)\n",
    "        dict_city_coordenadas[\"longitude\"].append(location.longitude)\n",
    "\n",
    "    return pd.DataFrame(dict_city_coordenadas)\n",
    "\n",
    "city_coordenadas_df = get_city_coordinates_df(city_list)"
   ]
  },
  {
   "cell_type": "code",
   "execution_count": 13,
   "metadata": {},
   "outputs": [],
   "source": [
    "city_coordenadas_df.to_csv(\"data/city_coordinates.csv\")"
   ]
  },
  {
   "cell_type": "code",
   "execution_count": 51,
   "metadata": {},
   "outputs": [
    {
     "data": {
      "text/html": [
       "<div>\n",
       "<style scoped>\n",
       "    .dataframe tbody tr th:only-of-type {\n",
       "        vertical-align: middle;\n",
       "    }\n",
       "\n",
       "    .dataframe tbody tr th {\n",
       "        vertical-align: top;\n",
       "    }\n",
       "\n",
       "    .dataframe thead th {\n",
       "        text-align: right;\n",
       "    }\n",
       "</style>\n",
       "<table border=\"1\" class=\"dataframe\">\n",
       "  <thead>\n",
       "    <tr style=\"text-align: right;\">\n",
       "      <th></th>\n",
       "      <th>city</th>\n",
       "      <th>latitude</th>\n",
       "      <th>longitude</th>\n",
       "    </tr>\n",
       "  </thead>\n",
       "  <tbody>\n",
       "    <tr>\n",
       "      <th>0</th>\n",
       "      <td>acebeda-la</td>\n",
       "      <td>41.086958</td>\n",
       "      <td>-3.624399</td>\n",
       "    </tr>\n",
       "    <tr>\n",
       "      <th>1</th>\n",
       "      <td>ajalvir</td>\n",
       "      <td>40.534230</td>\n",
       "      <td>-3.480782</td>\n",
       "    </tr>\n",
       "    <tr>\n",
       "      <th>2</th>\n",
       "      <td>alameda-del-valle</td>\n",
       "      <td>40.917718</td>\n",
       "      <td>-3.843822</td>\n",
       "    </tr>\n",
       "    <tr>\n",
       "      <th>3</th>\n",
       "      <td>alamo-el</td>\n",
       "      <td>40.230730</td>\n",
       "      <td>-3.990589</td>\n",
       "    </tr>\n",
       "    <tr>\n",
       "      <th>4</th>\n",
       "      <td>alcala-de-henares</td>\n",
       "      <td>40.481840</td>\n",
       "      <td>-3.364497</td>\n",
       "    </tr>\n",
       "    <tr>\n",
       "      <th>...</th>\n",
       "      <td>...</td>\n",
       "      <td>...</td>\n",
       "      <td>...</td>\n",
       "    </tr>\n",
       "    <tr>\n",
       "      <th>174</th>\n",
       "      <td>villar-del-olmo</td>\n",
       "      <td>40.336447</td>\n",
       "      <td>-3.235562</td>\n",
       "    </tr>\n",
       "    <tr>\n",
       "      <th>175</th>\n",
       "      <td>villarejo-de-salvanes</td>\n",
       "      <td>40.168358</td>\n",
       "      <td>-3.273876</td>\n",
       "    </tr>\n",
       "    <tr>\n",
       "      <th>176</th>\n",
       "      <td>villaviciosa-de-odon</td>\n",
       "      <td>40.357379</td>\n",
       "      <td>-3.900233</td>\n",
       "    </tr>\n",
       "    <tr>\n",
       "      <th>177</th>\n",
       "      <td>villavieja-del-lozoya</td>\n",
       "      <td>41.006362</td>\n",
       "      <td>-3.671629</td>\n",
       "    </tr>\n",
       "    <tr>\n",
       "      <th>178</th>\n",
       "      <td>zarzalejo</td>\n",
       "      <td>40.548302</td>\n",
       "      <td>-4.181590</td>\n",
       "    </tr>\n",
       "  </tbody>\n",
       "</table>\n",
       "<p>179 rows × 3 columns</p>\n",
       "</div>"
      ],
      "text/plain": [
       "                      city   latitude  longitude\n",
       "0               acebeda-la  41.086958  -3.624399\n",
       "1                  ajalvir  40.534230  -3.480782\n",
       "2        alameda-del-valle  40.917718  -3.843822\n",
       "3                 alamo-el  40.230730  -3.990589\n",
       "4        alcala-de-henares  40.481840  -3.364497\n",
       "..                     ...        ...        ...\n",
       "174        villar-del-olmo  40.336447  -3.235562\n",
       "175  villarejo-de-salvanes  40.168358  -3.273876\n",
       "176   villaviciosa-de-odon  40.357379  -3.900233\n",
       "177  villavieja-del-lozoya  41.006362  -3.671629\n",
       "178              zarzalejo  40.548302  -4.181590\n",
       "\n",
       "[179 rows x 3 columns]"
      ]
     },
     "execution_count": 51,
     "metadata": {},
     "output_type": "execute_result"
    }
   ],
   "source": [
    "city_coordenadas_df"
   ]
  },
  {
   "cell_type": "markdown",
   "metadata": {},
   "source": [
    "\n",
    "\n",
    "### Paso 2: Buscar Localizaciones Relevantes con la API de Foursquare\n",
    "\n",
    "Una vez obtenidas las coordenadas de los municipios, utilizarás la API de Foursquare para buscar servicios que pueden ser importantes en un rodaje (ej: parques, edificios históricos, plazas).\n",
    "\n",
    "En este punto es importante que reflexiones sobre los servicios o establecimientos clave que considerarías relevantes para establecer una empresa de servicios para rodajes. No hay una única respuesta correcta, ya que depende de la estrategia y visión que tengas. Al menos deberás elegir 5 tipos de servicios que puedan influir en la decisión de ubicación. Ejemplos de estos servicios pueden incluir:\n",
    "\n",
    "- Parques o áreas verdes para rodajes exteriores.\n",
    "\n",
    "- Centros comerciales que faciliten acceso a diferentes necesidades logísticas.\n",
    "\n",
    "- Bares o restaurantes para el catering del equipo.\n",
    "\n",
    "- Tiendas especializadas en disfraces o vestuario.\n",
    "\n",
    "- Alquileres de equipos audiovisuales.\n",
    "\n",
    "Es crucial entender que esta selección depende de la naturaleza y enfoque de la empresa. Tal vez para algunos proyectos sea más importante estar cerca de áreas residenciales o lugares con buena conexión de transporte. Otros proyectos podrían priorizar la proximidad a tiendas especializadas o servicios de entretenimiento. Es vuestra decisión! \n",
    "\n",
    "1. Crear una cuenta en [Foursquare](https://location.foursquare.com/developer/) y obtener la API Key necesaria para realizar las solicitudes. Leer la documentación para entender como funciona. \n",
    "\n",
    "2. Definir una función para realizar búsquedas de lugares cercanos a las coordenadas de cada municipio. Esta función debe permitir filtrar los resultados por categoría y distancia.\n",
    "\n",
    "3. Explorar las categorías disponibles en Foursquare y seleccionar aquellas que se ajusten a los servicios clave que decidáis para vuestra estrategia.\n",
    "\n",
    "4. Aplicar la función de búsqueda a cada municipio, recopilando información sobre los lugares relevantes.\n",
    "\n",
    "Recuerda que la elección de categorías es un punto de análisis clave en este ejercicio, ya que la información que obtendréis será fundamental para decidir la ubicación ideal para vuestra empresa. Aseguraos de justificar vuestras decisiones y considerar diferentes perspectivas. Para cada una de los municipios deberás sacar la información de todos los servicios elegidos. \n"
   ]
  },
  {
   "cell_type": "code",
   "execution_count": 10,
   "metadata": {},
   "outputs": [],
   "source": [
    "# List of places:\n",
    "# 1 - Metro / bus\n",
    "# 2 - Gym\n",
    "# 3 - Schools & activities for kids\n",
    "# 4 - Bars \n",
    "# 5 - Shopping centres\n",
    "# 6 - Laundry place\n",
    "\n",
    "foursquare_token = os.getenv(\"FOURSQUARE_TOKEN\")"
   ]
  },
  {
   "cell_type": "code",
   "execution_count": 39,
   "metadata": {},
   "outputs": [
    {
     "name": "stdout",
     "output_type": "stream",
     "text": [
      "{\"results\":[{\"fsq_id\":\"5b3d64b5c0cacb002c882b32\",\"categories\":[{\"id\":19049,\"name\":\"Taxi Stand\",\"short_name\":\"Taxi Stand\",\"plural_name\":\"Taxi Stands\",\"icon\":{\"prefix\":\"https://ss3.4sqi.net/img/categories_v2/travel/taxi_\",\"suffix\":\".png\"}}],\"chains\":[],\"closed_bucket\":\"LikelyOpen\",\"distance\":25619,\"geocodes\":{\"drop_off\":{\"latitude\":41.297744,\"longitude\":-3.748548},\"main\":{\"latitude\":41.297908,\"longitude\":-3.748465},\"roof\":{\"latitude\":41.297908,\"longitude\":-3.748465}},\"link\":\"/v3/places/5b3d64b5c0cacb002c882b32\",\"location\":{\"address\":\"Calle de Alfonso VI, 5\",\"admin_region\":\"Castilla y León\",\"country\":\"ES\",\"cross_street\":\"\",\"formatted_address\":\"Calle de Alfonso VI, 5, 40300 Sepúlveda Castilla y León\",\"locality\":\"Sepúlveda\",\"postcode\":\"40300\",\"region\":\"Castilla y León\"},\"name\":\"Taxi - Eurotaxi Duratón Bus\",\"related_places\":{},\"timezone\":\"Europe/Madrid\"}],\"context\":{\"geo_bounds\":{\"circle\":{\"center\":{\"latitude\":41.086958,\"longitude\":-3.624399},\"radius\":22000}}}}\n"
     ]
    }
   ],
   "source": [
    "import requests\n",
    "\n",
    "url = \"https://api.foursquare.com/v3/places/search\"\n",
    "\n",
    "params = {\n",
    "  \t\"query\": \"bus\",\n",
    "  \t\"ll\": \"41.086958,-3.624399\",\n",
    "  \t\"open_now\": \"true\",\n",
    "  \t\"sort\":\"DISTANCE\",\n",
    "    \"radius\"\n",
    "}\n",
    "\n",
    "headers = {\n",
    "    \"Accept\": \"application/json\",\n",
    "    \"Authorization\": foursquare_token\n",
    "}\n",
    "\n",
    "response = requests.request(\"GET\", url, params=params, headers=headers)\n",
    "\n",
    "print(response.text)"
   ]
  },
  {
   "cell_type": "code",
   "execution_count": 43,
   "metadata": {},
   "outputs": [
    {
     "data": {
      "text/plain": [
       "[{'fsq_id': '5b3d64b5c0cacb002c882b32',\n",
       "  'categories': [{'id': 19049,\n",
       "    'name': 'Taxi Stand',\n",
       "    'short_name': 'Taxi Stand',\n",
       "    'plural_name': 'Taxi Stands',\n",
       "    'icon': {'prefix': 'https://ss3.4sqi.net/img/categories_v2/travel/taxi_',\n",
       "     'suffix': '.png'}}],\n",
       "  'chains': [],\n",
       "  'closed_bucket': 'LikelyOpen',\n",
       "  'distance': 25619,\n",
       "  'geocodes': {'drop_off': {'latitude': 41.297744, 'longitude': -3.748548},\n",
       "   'main': {'latitude': 41.297908, 'longitude': -3.748465},\n",
       "   'roof': {'latitude': 41.297908, 'longitude': -3.748465}},\n",
       "  'link': '/v3/places/5b3d64b5c0cacb002c882b32',\n",
       "  'location': {'address': 'Calle de Alfonso VI, 5',\n",
       "   'admin_region': 'Castilla y León',\n",
       "   'country': 'ES',\n",
       "   'cross_street': '',\n",
       "   'formatted_address': 'Calle de Alfonso VI, 5, 40300 Sepúlveda Castilla y León',\n",
       "   'locality': 'Sepúlveda',\n",
       "   'postcode': '40300',\n",
       "   'region': 'Castilla y León'},\n",
       "  'name': 'Taxi - Eurotaxi Duratón Bus',\n",
       "  'related_places': {},\n",
       "  'timezone': 'Europe/Madrid'}]"
      ]
     },
     "execution_count": 43,
     "metadata": {},
     "output_type": "execute_result"
    }
   ],
   "source": [
    "response.json()[\"results\"]"
   ]
  },
  {
   "cell_type": "markdown",
   "metadata": {},
   "source": [
    "I will need the following information about the nearby places:\n",
    "- Name \n",
    "- Distance\n",
    "- drop_off\n",
    "- location, formated_adress\n",
    "- categories[0][\"name\"]"
   ]
  },
  {
   "cell_type": "code",
   "execution_count": 49,
   "metadata": {},
   "outputs": [
    {
     "data": {
      "text/html": [
       "<div>\n",
       "<style scoped>\n",
       "    .dataframe tbody tr th:only-of-type {\n",
       "        vertical-align: middle;\n",
       "    }\n",
       "\n",
       "    .dataframe tbody tr th {\n",
       "        vertical-align: top;\n",
       "    }\n",
       "\n",
       "    .dataframe thead th {\n",
       "        text-align: right;\n",
       "    }\n",
       "</style>\n",
       "<table border=\"1\" class=\"dataframe\">\n",
       "  <thead>\n",
       "    <tr style=\"text-align: right;\">\n",
       "      <th></th>\n",
       "      <th>formatted_address</th>\n",
       "      <th>locality</th>\n",
       "    </tr>\n",
       "  </thead>\n",
       "  <tbody>\n",
       "    <tr>\n",
       "      <th>0</th>\n",
       "      <td>Calle de Alfonso VI, 5, 40300 Sepúlveda Castil...</td>\n",
       "      <td>Sepúlveda</td>\n",
       "    </tr>\n",
       "  </tbody>\n",
       "</table>\n",
       "</div>"
      ],
      "text/plain": [
       "                                   formatted_address   locality\n",
       "0  Calle de Alfonso VI, 5, 40300 Sepúlveda Castil...  Sepúlveda"
      ]
     },
     "execution_count": 49,
     "metadata": {},
     "output_type": "execute_result"
    }
   ],
   "source": [
    "df_vacio = pd.DataFrame()\n",
    "df_prueba = pd.DataFrame({'formatted_address': 'Calle de Alfonso VI, 5, 40300 Sepúlveda Castilla y León', 'locality': 'Sepúlveda'},index=[0])\n",
    "pd.concat([df_vacio, df_prueba])"
   ]
  },
  {
   "cell_type": "code",
   "execution_count": 91,
   "metadata": {},
   "outputs": [],
   "source": [
    "import random\n",
    "import time \n",
    "\n",
    "def get_nearby_places(token, city, latitude, longitude, category_list,radius):\n",
    "    nearby_places_df = pd.DataFrame()\n",
    "    categories = \",\".join(category_list)\n",
    "    response_dict = make_request(token,latitude, longitude,categories,radius)\n",
    "    response_df = format_results(response_dict)\n",
    "    nearby_places_df = pd.concat([nearby_places_df,response_df])\n",
    "        \n",
    "    nearby_places_df[\"city\"] = city\n",
    "    return nearby_places_df\n",
    "\n",
    "def make_request(token, latitude, longitude, categories, radius=500):\n",
    "    params = {\n",
    "    \"categories\": categories,\n",
    "  \t\"ll\": f\"{latitude},{longitude}\",\n",
    "  \t\"sort\":\"DISTANCE\",\n",
    "    \"radius\": radius\n",
    "    }\n",
    "\n",
    "    headers = {\n",
    "        \"Accept\": \"application/json\",\n",
    "        \"Authorization\": token\n",
    "    }\n",
    "\n",
    "    response = requests.request(\"GET\", url, params=params, headers=headers)\n",
    "    return response.json()\n",
    "\n",
    "\n",
    "def format_results(response_dict):\n",
    "    dictionary = {\n",
    "        \"place_name\": list(),\n",
    "        \"distance\": list(),\n",
    "        \"main_latitude\": list(),\n",
    "        \"main_longitude\": list(),\n",
    "        \"address\": list(),\n",
    "        \"searched_category\": list(),\n",
    "        \"category_name\": list()\n",
    "    }\n",
    "    \n",
    "    try:\n",
    "        for result in response_dict[\"results\"]:\n",
    "            dictionary[\"place_name\"].append(result[\"name\"])\n",
    "            dictionary[\"distance\"].append(result[\"distance\"])\n",
    "            try:\n",
    "                dictionary[\"main_latitude\"].append(result[\"geocodes\"][\"main\"][\"latitude\"])\n",
    "                dictionary[\"main_longitude\"].append(result[\"geocodes\"][\"main\"][\"longitude\"])\n",
    "            except:\n",
    "                dictionary[\"main_latitude\"].append(np.nan)\n",
    "                dictionary[\"main_longitude\"].append(np.nan)\n",
    "            dictionary[\"address\"].append(result[\"location\"][\"formatted_address\"])\n",
    "            dictionary[\"searched_category\"].append(result[\"name\"])\n",
    "            dictionary[\"category_name\"].append(result[\"categories\"][0][\"name\"])\n",
    "    except:\n",
    "        print(\"There's been a mistake.\")\n",
    "\n",
    "    return pd.DataFrame(dictionary)\n",
    "    \n"
   ]
  },
  {
   "cell_type": "code",
   "execution_count": 92,
   "metadata": {},
   "outputs": [
    {
     "name": "stderr",
     "output_type": "stream",
     "text": [
      "39it [01:43,  3.00s/it]"
     ]
    }
   ],
   "source": [
    "category_dict = {\"Whisky Bar\":\"13024\",\n",
    "                 \"Town\":\"16067\",\n",
    "                 \"Escape Room\":\"10015\",\n",
    "                 \"Funeral Home\":\"11059\",\n",
    "                 \"Arcade\":\"10003\",\n",
    "                 \"Cemetery\":\"12003\",\n",
    "                 \"Prison\":\"12090\"}\n",
    "radius = 500\n",
    "general_categories_df = pd.DataFrame()\n",
    "for idx, fila in tqdm(city_coordenadas_df.iterrows()):\n",
    "    time.sleep(random.randint(0,3))\n",
    "    city = fila[\"city\"]\n",
    "    latitude = fila[\"latitude\"]\n",
    "    longitude = fila[\"longitude\"]\n",
    "    categories_list = list(category_dict.values())\n",
    "    city_categories_df = get_nearby_places(foursquare_token, city, latitude, longitude, categories_list,radius)\n",
    "    general_categories_df = pd.concat([general_categories_df,city_categories_df])\n",
    "\n",
    "general_categories_df"
   ]
  },
  {
   "cell_type": "code",
   "execution_count": 68,
   "metadata": {},
   "outputs": [
    {
     "data": {
      "text/html": [
       "<div>\n",
       "<style scoped>\n",
       "    .dataframe tbody tr th:only-of-type {\n",
       "        vertical-align: middle;\n",
       "    }\n",
       "\n",
       "    .dataframe tbody tr th {\n",
       "        vertical-align: top;\n",
       "    }\n",
       "\n",
       "    .dataframe thead th {\n",
       "        text-align: right;\n",
       "    }\n",
       "</style>\n",
       "<table border=\"1\" class=\"dataframe\">\n",
       "  <thead>\n",
       "    <tr style=\"text-align: right;\">\n",
       "      <th></th>\n",
       "      <th>place_name</th>\n",
       "      <th>distance</th>\n",
       "      <th>main_latitude</th>\n",
       "      <th>main_longitude</th>\n",
       "      <th>address</th>\n",
       "      <th>searched_category</th>\n",
       "      <th>category_name</th>\n",
       "      <th>city</th>\n",
       "    </tr>\n",
       "  </thead>\n",
       "  <tbody>\n",
       "  </tbody>\n",
       "</table>\n",
       "</div>"
      ],
      "text/plain": [
       "Empty DataFrame\n",
       "Columns: [place_name, distance, main_latitude, main_longitude, address, searched_category, category_name, city]\n",
       "Index: []"
      ]
     },
     "execution_count": 68,
     "metadata": {},
     "output_type": "execute_result"
    }
   ],
   "source": [
    "general_categories_df"
   ]
  },
  {
   "cell_type": "code",
   "execution_count": 65,
   "metadata": {},
   "outputs": [
    {
     "name": "stderr",
     "output_type": "stream",
     "text": [
      "100%|██████████| 1/1 [00:02<00:00,  2.89s/it]\n"
     ]
    },
    {
     "data": {
      "text/html": [
       "<div>\n",
       "<style scoped>\n",
       "    .dataframe tbody tr th:only-of-type {\n",
       "        vertical-align: middle;\n",
       "    }\n",
       "\n",
       "    .dataframe tbody tr th {\n",
       "        vertical-align: top;\n",
       "    }\n",
       "\n",
       "    .dataframe thead th {\n",
       "        text-align: right;\n",
       "    }\n",
       "</style>\n",
       "<table border=\"1\" class=\"dataframe\">\n",
       "  <thead>\n",
       "    <tr style=\"text-align: right;\">\n",
       "      <th></th>\n",
       "      <th>place_name</th>\n",
       "      <th>distance</th>\n",
       "      <th>main_latitude</th>\n",
       "      <th>main_longitude</th>\n",
       "      <th>address</th>\n",
       "      <th>searched_category</th>\n",
       "      <th>category_name</th>\n",
       "      <th>city</th>\n",
       "    </tr>\n",
       "  </thead>\n",
       "  <tbody>\n",
       "    <tr>\n",
       "      <th>0</th>\n",
       "      <td>La Rollerie</td>\n",
       "      <td>137</td>\n",
       "      <td>40.482603</td>\n",
       "      <td>-3.365773</td>\n",
       "      <td>Calle Mayor, 15, 28801 Alcalá de Henares Comun...</td>\n",
       "      <td>La Rollerie</td>\n",
       "      <td>Coffee Shop</td>\n",
       "      <td>alcala-de-henares</td>\n",
       "    </tr>\n",
       "    <tr>\n",
       "      <th>1</th>\n",
       "      <td>Tetería Guama</td>\n",
       "      <td>158</td>\n",
       "      <td>40.483250</td>\n",
       "      <td>-3.365344</td>\n",
       "      <td>Calle Mayor, 6 (Corral Campaña), 28801 Alcalá ...</td>\n",
       "      <td>Tetería Guama</td>\n",
       "      <td>Tea Room</td>\n",
       "      <td>alcala-de-henares</td>\n",
       "    </tr>\n",
       "    <tr>\n",
       "      <th>2</th>\n",
       "      <td>San Diego Coffee Corner</td>\n",
       "      <td>208</td>\n",
       "      <td>40.483275</td>\n",
       "      <td>-3.363115</td>\n",
       "      <td>Plaza de San Diego, 3, 28801 Alcalá de Henares...</td>\n",
       "      <td>San Diego Coffee Corner</td>\n",
       "      <td>Café</td>\n",
       "      <td>alcala-de-henares</td>\n",
       "    </tr>\n",
       "    <tr>\n",
       "      <th>3</th>\n",
       "      <td>Churrería Metropoli</td>\n",
       "      <td>231</td>\n",
       "      <td>40.483886</td>\n",
       "      <td>-3.364996</td>\n",
       "      <td>Calle de Santiago, 42-48, 28801 Alcalá de Hena...</td>\n",
       "      <td>Churrería Metropoli</td>\n",
       "      <td>Café</td>\n",
       "      <td>alcala-de-henares</td>\n",
       "    </tr>\n",
       "    <tr>\n",
       "      <th>4</th>\n",
       "      <td>Manolo Bakes Libreros</td>\n",
       "      <td>245</td>\n",
       "      <td>40.483880</td>\n",
       "      <td>-3.363392</td>\n",
       "      <td>Calle Libreros, 24, 28801 Alcalá de Henares Co...</td>\n",
       "      <td>Manolo Bakes Libreros</td>\n",
       "      <td>Bakery</td>\n",
       "      <td>alcala-de-henares</td>\n",
       "    </tr>\n",
       "    <tr>\n",
       "      <th>5</th>\n",
       "      <td>Café Continental</td>\n",
       "      <td>395</td>\n",
       "      <td>40.479044</td>\n",
       "      <td>-3.367290</td>\n",
       "      <td>Calle Empecinado, 23, 28801 Alcalá de Henares ...</td>\n",
       "      <td>Café Continental</td>\n",
       "      <td>Café</td>\n",
       "      <td>alcala-de-henares</td>\n",
       "    </tr>\n",
       "    <tr>\n",
       "      <th>6</th>\n",
       "      <td>Churrería Chocolatería Cibeles</td>\n",
       "      <td>606</td>\n",
       "      <td>40.486729</td>\n",
       "      <td>-3.367686</td>\n",
       "      <td>Calle Talamanca, 29, 28807 Alcalá de Henares C...</td>\n",
       "      <td>Churrería Chocolatería Cibeles</td>\n",
       "      <td>Café</td>\n",
       "      <td>alcala-de-henares</td>\n",
       "    </tr>\n",
       "    <tr>\n",
       "      <th>7</th>\n",
       "      <td>Masamiga</td>\n",
       "      <td>6946</td>\n",
       "      <td>40.462113</td>\n",
       "      <td>-3.441897</td>\n",
       "      <td>Avenida Carmen Laforet, 14, 28850 Torrejón de ...</td>\n",
       "      <td>Masamiga</td>\n",
       "      <td>Bakery</td>\n",
       "      <td>alcala-de-henares</td>\n",
       "    </tr>\n",
       "    <tr>\n",
       "      <th>8</th>\n",
       "      <td>Pasteleria Cafeteria Hey Sugar</td>\n",
       "      <td>7334</td>\n",
       "      <td>40.458112</td>\n",
       "      <td>-3.445664</td>\n",
       "      <td>Avenida Joan Miró 7, 28850 Torrejón de Ardoz C...</td>\n",
       "      <td>Pasteleria Cafeteria Hey Sugar</td>\n",
       "      <td>Bakery</td>\n",
       "      <td>alcala-de-henares</td>\n",
       "    </tr>\n",
       "    <tr>\n",
       "      <th>9</th>\n",
       "      <td>Mayri</td>\n",
       "      <td>9154</td>\n",
       "      <td>40.461961</td>\n",
       "      <td>-3.469583</td>\n",
       "      <td>Calle Lisboa, 33, 28850 Torrejón de Ardoz Comu...</td>\n",
       "      <td>Mayri</td>\n",
       "      <td>Café</td>\n",
       "      <td>alcala-de-henares</td>\n",
       "    </tr>\n",
       "  </tbody>\n",
       "</table>\n",
       "</div>"
      ],
      "text/plain": [
       "                       place_name  distance  main_latitude  main_longitude  \\\n",
       "0                     La Rollerie       137      40.482603       -3.365773   \n",
       "1                   Tetería Guama       158      40.483250       -3.365344   \n",
       "2         San Diego Coffee Corner       208      40.483275       -3.363115   \n",
       "3             Churrería Metropoli       231      40.483886       -3.364996   \n",
       "4           Manolo Bakes Libreros       245      40.483880       -3.363392   \n",
       "5                Café Continental       395      40.479044       -3.367290   \n",
       "6  Churrería Chocolatería Cibeles       606      40.486729       -3.367686   \n",
       "7                        Masamiga      6946      40.462113       -3.441897   \n",
       "8  Pasteleria Cafeteria Hey Sugar      7334      40.458112       -3.445664   \n",
       "9                           Mayri      9154      40.461961       -3.469583   \n",
       "\n",
       "                                             address  \\\n",
       "0  Calle Mayor, 15, 28801 Alcalá de Henares Comun...   \n",
       "1  Calle Mayor, 6 (Corral Campaña), 28801 Alcalá ...   \n",
       "2  Plaza de San Diego, 3, 28801 Alcalá de Henares...   \n",
       "3  Calle de Santiago, 42-48, 28801 Alcalá de Hena...   \n",
       "4  Calle Libreros, 24, 28801 Alcalá de Henares Co...   \n",
       "5  Calle Empecinado, 23, 28801 Alcalá de Henares ...   \n",
       "6  Calle Talamanca, 29, 28807 Alcalá de Henares C...   \n",
       "7  Avenida Carmen Laforet, 14, 28850 Torrejón de ...   \n",
       "8  Avenida Joan Miró 7, 28850 Torrejón de Ardoz C...   \n",
       "9  Calle Lisboa, 33, 28850 Torrejón de Ardoz Comu...   \n",
       "\n",
       "                searched_category category_name               city  \n",
       "0                     La Rollerie   Coffee Shop  alcala-de-henares  \n",
       "1                   Tetería Guama      Tea Room  alcala-de-henares  \n",
       "2         San Diego Coffee Corner          Café  alcala-de-henares  \n",
       "3             Churrería Metropoli          Café  alcala-de-henares  \n",
       "4           Manolo Bakes Libreros        Bakery  alcala-de-henares  \n",
       "5                Café Continental          Café  alcala-de-henares  \n",
       "6  Churrería Chocolatería Cibeles          Café  alcala-de-henares  \n",
       "7                        Masamiga        Bakery  alcala-de-henares  \n",
       "8  Pasteleria Cafeteria Hey Sugar        Bakery  alcala-de-henares  \n",
       "9                           Mayri          Café  alcala-de-henares  "
      ]
     },
     "execution_count": 65,
     "metadata": {},
     "output_type": "execute_result"
    }
   ],
   "source": [
    "get_nearby_places(foursquare_token, \"alcala-de-henares\",40.481840, -3.364497, [\"coffee\"],10000)"
   ]
  },
  {
   "cell_type": "code",
   "execution_count": 45,
   "metadata": {},
   "outputs": [
    {
     "data": {
      "text/plain": [
       "dict"
      ]
     },
     "execution_count": 45,
     "metadata": {},
     "output_type": "execute_result"
    }
   ],
   "source": [
    "type({})"
   ]
  },
  {
   "cell_type": "code",
   "execution_count": null,
   "metadata": {},
   "outputs": [],
   "source": [
    "dictionary = {\n",
    "    \"name\":  ,\n",
    "    \"distance\":  ,\n",
    "    \"drop_off\":  ,\n",
    "    \"address\":   ,\n",
    "    \"searched_category\": ,\n",
    "    \"category_name\":  ,\n",
    "}"
   ]
  },
  {
   "cell_type": "code",
   "execution_count": null,
   "metadata": {},
   "outputs": [],
   "source": [
    "# name "
   ]
  },
  {
   "cell_type": "code",
   "execution_count": 41,
   "metadata": {},
   "outputs": [
    {
     "ename": "SyntaxError",
     "evalue": "expected ':' (3413825452.py, line 1)",
     "output_type": "error",
     "traceback": [
      "\u001b[1;36m  Cell \u001b[1;32mIn[41], line 1\u001b[1;36m\u001b[0m\n\u001b[1;33m    for result in response.json()[\"results\"]\u001b[0m\n\u001b[1;37m                                            ^\u001b[0m\n\u001b[1;31mSyntaxError\u001b[0m\u001b[1;31m:\u001b[0m expected ':'\n"
     ]
    }
   ],
   "source": [
    "for result in response.json()[\"results\"]:\n",
    "    pass"
   ]
  },
  {
   "cell_type": "markdown",
   "metadata": {},
   "source": [
    "\n",
    "### Paso 3: Limpieza de la Información\n",
    "\n",
    "La información obtenida de Foursquare puede incluir muchos detalles innecesarios. Tu objetivo es quedarte únicamente con los campos relevantes para tu análisis (nombre, dirección, coordenadas, tipo de lugar, etc.).\n",
    "\n",
    "\n",
    "1. Explorar la estructura de los datos obtenidos para identificar los campos importantes y limpiar la información.\n",
    "\n",
    "2. Eliminar duplicados y valores nulos para garantizar la consistencia y calidad de los datos.\n",
    "\n",
    "### Paso 4: Almacenamiento de los Datos\n",
    "\n",
    "Una vez que tengas la información limpia y organizada, almacénala en un archivo CSV que puedas reutilizar en futuros análisis.\n"
   ]
  },
  {
   "cell_type": "markdown",
   "metadata": {},
   "source": []
  }
 ],
 "metadata": {
  "kernelspec": {
   "display_name": "Dia_1_-_APIs-z3LYkQm2",
   "language": "python",
   "name": "python3"
  },
  "language_info": {
   "codemirror_mode": {
    "name": "ipython",
    "version": 3
   },
   "file_extension": ".py",
   "mimetype": "text/x-python",
   "name": "python",
   "nbconvert_exporter": "python",
   "pygments_lexer": "ipython3",
   "version": "3.11.4"
  }
 },
 "nbformat": 4,
 "nbformat_minor": 2
}
